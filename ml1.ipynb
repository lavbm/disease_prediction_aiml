{
 "cells": [
  {
   "cell_type": "code",
   "execution_count": 1,
   "id": "f08f095e-cdb9-439e-ae6f-a232834bed35",
   "metadata": {},
   "outputs": [
    {
     "name": "stdout",
     "output_type": "stream",
     "text": [
      "Accuracy: 0.9875\n",
      "Classification Report:\n",
      "                                 precision    recall  f1-score   support\n",
      "\n",
      "                           Acne       1.00      1.00      1.00         7\n",
      "                      Arthritis       1.00      1.00      1.00        10\n",
      "               Bronchial Asthma       1.00      1.00      1.00        11\n",
      "           Cervical spondylosis       1.00      1.00      1.00         7\n",
      "                    Chicken pox       0.86      1.00      0.92        12\n",
      "                    Common Cold       1.00      1.00      1.00        12\n",
      "                         Dengue       1.00      0.83      0.91        12\n",
      "          Dimorphic Hemorrhoids       1.00      1.00      1.00         7\n",
      "               Fungal infection       1.00      1.00      1.00        13\n",
      "                   Hypertension       1.00      1.00      1.00        10\n",
      "                       Impetigo       1.00      1.00      1.00        11\n",
      "                       Jaundice       1.00      1.00      1.00        11\n",
      "                        Malaria       1.00      1.00      1.00        11\n",
      "                       Migraine       1.00      1.00      1.00        10\n",
      "                      Pneumonia       1.00      1.00      1.00        11\n",
      "                      Psoriasis       1.00      0.83      0.91         6\n",
      "                        Typhoid       1.00      1.00      1.00         9\n",
      "                 Varicose Veins       1.00      1.00      1.00        12\n",
      "                        allergy       1.00      1.00      1.00        12\n",
      "                       diabetes       1.00      1.00      1.00         8\n",
      "                  drug reaction       1.00      1.00      1.00         5\n",
      "gastroesophageal reflux disease       1.00      1.00      1.00        11\n",
      "           peptic ulcer disease       0.92      1.00      0.96        11\n",
      "        urinary tract infection       1.00      1.00      1.00        11\n",
      "\n",
      "                       accuracy                           0.99       240\n",
      "                      macro avg       0.99      0.99      0.99       240\n",
      "                   weighted avg       0.99      0.99      0.99       240\n",
      "\n",
      "Confusion Matrix:\n",
      "[[ 7  0  0  0  0  0  0  0  0  0  0  0  0  0  0  0  0  0  0  0  0  0  0  0]\n",
      " [ 0 10  0  0  0  0  0  0  0  0  0  0  0  0  0  0  0  0  0  0  0  0  0  0]\n",
      " [ 0  0 11  0  0  0  0  0  0  0  0  0  0  0  0  0  0  0  0  0  0  0  0  0]\n",
      " [ 0  0  0  7  0  0  0  0  0  0  0  0  0  0  0  0  0  0  0  0  0  0  0  0]\n",
      " [ 0  0  0  0 12  0  0  0  0  0  0  0  0  0  0  0  0  0  0  0  0  0  0  0]\n",
      " [ 0  0  0  0  0 12  0  0  0  0  0  0  0  0  0  0  0  0  0  0  0  0  0  0]\n",
      " [ 0  0  0  0  2  0 10  0  0  0  0  0  0  0  0  0  0  0  0  0  0  0  0  0]\n",
      " [ 0  0  0  0  0  0  0  7  0  0  0  0  0  0  0  0  0  0  0  0  0  0  0  0]\n",
      " [ 0  0  0  0  0  0  0  0 13  0  0  0  0  0  0  0  0  0  0  0  0  0  0  0]\n",
      " [ 0  0  0  0  0  0  0  0  0 10  0  0  0  0  0  0  0  0  0  0  0  0  0  0]\n",
      " [ 0  0  0  0  0  0  0  0  0  0 11  0  0  0  0  0  0  0  0  0  0  0  0  0]\n",
      " [ 0  0  0  0  0  0  0  0  0  0  0 11  0  0  0  0  0  0  0  0  0  0  0  0]\n",
      " [ 0  0  0  0  0  0  0  0  0  0  0  0 11  0  0  0  0  0  0  0  0  0  0  0]\n",
      " [ 0  0  0  0  0  0  0  0  0  0  0  0  0 10  0  0  0  0  0  0  0  0  0  0]\n",
      " [ 0  0  0  0  0  0  0  0  0  0  0  0  0  0 11  0  0  0  0  0  0  0  0  0]\n",
      " [ 0  0  0  0  0  0  0  0  0  0  0  0  0  0  0  5  0  0  0  0  0  0  1  0]\n",
      " [ 0  0  0  0  0  0  0  0  0  0  0  0  0  0  0  0  9  0  0  0  0  0  0  0]\n",
      " [ 0  0  0  0  0  0  0  0  0  0  0  0  0  0  0  0  0 12  0  0  0  0  0  0]\n",
      " [ 0  0  0  0  0  0  0  0  0  0  0  0  0  0  0  0  0  0 12  0  0  0  0  0]\n",
      " [ 0  0  0  0  0  0  0  0  0  0  0  0  0  0  0  0  0  0  0  8  0  0  0  0]\n",
      " [ 0  0  0  0  0  0  0  0  0  0  0  0  0  0  0  0  0  0  0  0  5  0  0  0]\n",
      " [ 0  0  0  0  0  0  0  0  0  0  0  0  0  0  0  0  0  0  0  0  0 11  0  0]\n",
      " [ 0  0  0  0  0  0  0  0  0  0  0  0  0  0  0  0  0  0  0  0  0  0 11  0]\n",
      " [ 0  0  0  0  0  0  0  0  0  0  0  0  0  0  0  0  0  0  0  0  0  0  0 11]]\n"
     ]
    },
    {
     "name": "stdin",
     "output_type": "stream",
     "text": [
      "enter yourrr symtoms  high fever, fatigue, headache, nausea, abdominal pain, and constipation or diarrhoea. \n"
     ]
    },
    {
     "name": "stdout",
     "output_type": "stream",
     "text": [
      "Predicted disease: Typhoid\n"
     ]
    }
   ],
   "source": [
    "import pandas as pd\n",
    "from sklearn.feature_extraction.text import TfidfVectorizer\n",
    "from sklearn.svm import SVC\n",
    "from sklearn.model_selection import train_test_split\n",
    "from sklearn.metrics import accuracy_score, classification_report, confusion_matrix\n",
    "\n",
    "\n",
    "df = pd.read_csv(\"symptom.csv\")\n",
    "\n",
    "X_train, X_test, y_train, y_test = train_test_split(df[\"text\"], df[\"label\"], test_size=0.2, random_state=42)\n",
    "\n",
    "vectorizer = TfidfVectorizer(stop_words=\"english\")\n",
    "X_train_tfidf = vectorizer.fit_transform(X_train)\n",
    "X_test_tfidf = vectorizer.transform(X_test)\n",
    "\n",
    "svm = SVC(kernel=\"linear\", C=1.0)\n",
    "svm.fit(X_train_tfidf, y_train)\n",
    "y_pred = svm.predict(X_test_tfidf)\n",
    "accuracy = accuracy_score(y_test, y_pred)\n",
    "print(\"Accuracy:\", accuracy)\n",
    "print(\"Classification Report:\")\n",
    "print(classification_report(y_test, y_pred))\n",
    "print(\"Confusion Matrix:\")\n",
    "print(confusion_matrix(y_test, y_pred))\n",
    "\n",
    "\n",
    "def predict_disease(symptoms):\n",
    "    symptoms_tfidf = vectorizer.transform([symptoms])\n",
    "    prediction = svm.predict(symptoms_tfidf)\n",
    "    return prediction[0]\n",
    "\n",
    "\n",
    "user_input =input(\"enter yourrr symtoms\")\n",
    "predicted_disease = predict_disease(user_input)\n",
    "print(\"Predicted disease:\", predicted_disease)"
   ]
  },
  {
   "cell_type": "code",
   "execution_count": null,
   "id": "3a1763b8-8fd9-477a-909c-4d7dfa5e7cfc",
   "metadata": {},
   "outputs": [
    {
     "name": "stdout",
     "output_type": "stream",
     "text": [
      "Accuracy: 0.9416666666666667\n",
      "Enter your symptoms (or 'quit' to exit):\n"
     ]
    },
    {
     "name": "stdin",
     "output_type": "stream",
     "text": [
      "  high fever, fatigue, headache, nausea, abdominal pain, and constipation or diarrhoea. \n"
     ]
    },
    {
     "name": "stdout",
     "output_type": "stream",
     "text": [
      "Predicted disease: Typhoid\n",
      "Enter your symptoms (or 'quit' to exit):\n"
     ]
    }
   ],
   "source": [
    "import pandas as pd\n",
    "from sklearn.feature_extraction.text import TfidfVectorizer\n",
    "from sklearn.naive_bayes import MultinomialNB\n",
    "from sklearn.model_selection import train_test_split\n",
    "from sklearn.metrics import accuracy_score\n",
    "\n",
    "df = pd.read_csv('symptom.csv')\n",
    "\n",
    "X = df['text']\n",
    "y = df['label']\n",
    "X_train, X_test, y_train, y_test = train_test_split(X, y, test_size=0.2, random_state=42)\n",
    "vectorizer = TfidfVectorizer(stop_words='english')\n",
    "X_train_tfidf = vectorizer.fit_transform(X_train)\n",
    "X_test_tfidf = vectorizer.transform(X_test)\n",
    "\n",
    "clf = MultinomialNB()\n",
    "clf.fit(X_train_tfidf, y_train)\n",
    "y_pred = clf.predict(X_test_tfidf)\n",
    "\n",
    "accuracy = accuracy_score(y_test, y_pred)\n",
    "print(\"Accuracy:\", accuracy)\n",
    "\n",
    "def predict_disease(symptoms):\n",
    "    \n",
    "    symptoms_tfidf = vectorizer.transform([symptoms])\n",
    "    prediction = clf.predict(symptoms_tfidf)[0]\n",
    "    \n",
    "    return prediction\n",
    "\n",
    "\n",
    "while True:\n",
    "    print(\"Enter your symptoms (or 'quit' to exit):\")\n",
    "    symptoms = input()\n",
    "    if symptoms.lower() == 'quit':\n",
    "        break\n",
    "    prediction = predict_disease(symptoms)\n",
    "    print(\"Predicted disease:\", prediction)"
   ]
  },
  {
   "cell_type": "code",
   "execution_count": null,
   "id": "3e4fd041-d5ce-48ef-b96a-a7ef37d4d37f",
   "metadata": {},
   "outputs": [],
   "source": []
  }
 ],
 "metadata": {
  "kernelspec": {
   "display_name": "Python 3 (ipykernel)",
   "language": "python",
   "name": "python3"
  },
  "language_info": {
   "codemirror_mode": {
    "name": "ipython",
    "version": 3
   },
   "file_extension": ".py",
   "mimetype": "text/x-python",
   "name": "python",
   "nbconvert_exporter": "python",
   "pygments_lexer": "ipython3",
   "version": "3.11.7"
  }
 },
 "nbformat": 4,
 "nbformat_minor": 5
}
